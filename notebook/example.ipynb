{
 "cells": [
  {
   "cell_type": "code",
   "execution_count": 2,
   "metadata": {},
   "outputs": [],
   "source": [
    "from collections import namedtuple"
   ]
  },
  {
   "cell_type": "code",
   "execution_count": 8,
   "metadata": {},
   "outputs": [
    {
     "name": "stdout",
     "output_type": "stream",
     "text": [
      "(10, 20, 30)\n",
      "('https://figshare.com/ndownloader/files/5976036', 'C:/Downloads/cal_housing.tgz', 'C:/Downloads/CaliforniaHousing/', 'C:/Downloads/CaliforniaHousing/train.csv', 'C:/Downloads/CaliforniaHousing/test.csv')\n"
     ]
    }
   ],
   "source": [
    "# Normal Tuple\n",
    "\n",
    "abc = (10,20,30)\n",
    "print(abc)\n",
    "\n",
    "# Required imformation\n",
    "\n",
    "imp_info = (\"https://figshare.com/ndownloader/files/5976036\",\"C:/Downloads/cal_housing.tgz\",\"C:/Downloads/CaliforniaHousing/\",\"C:/Downloads/CaliforniaHousing/train.csv\",\"C:/Downloads/CaliforniaHousing/test.csv\")\n",
    "print(imp_info)"
   ]
  },
  {
   "attachments": {},
   "cell_type": "markdown",
   "metadata": {},
   "source": [
    "Required to take below information at once and make user aware which information to write at each place we use namedtuple which is noting but name given to each place of the tuple.\n",
    "1. download url (data source url)\n",
    "2. download folder (compressed file)\n",
    "3. extract folder (extracted file)\n",
    "4. train dataset folder\n",
    "5. test dataset folder"
   ]
  },
  {
   "cell_type": "code",
   "execution_count": 5,
   "metadata": {},
   "outputs": [],
   "source": [
    "# namedtuple declaration\n",
    "DataIngestionConfig = namedtuple(\"DataIngestionConfig\",[\"dataset_download_url\",\"tgz_download_dir\",\"raw_data_dir\",\"ingested_train_dir\",\"ingested_test_dir\"])"
   ]
  },
  {
   "cell_type": "code",
   "execution_count": 9,
   "metadata": {},
   "outputs": [],
   "source": [
    "# Example of namedtuple\n",
    "data_ingestion_config = DataIngestionConfig(\n",
    "    dataset_download_url= \"https://figshare.com/ndownloader/files/5976036\" ,\n",
    "    tgz_download_dir= \"C:/Downloads/cal_housing.tgz\",\n",
    "    raw_data_dir= \"C:/Downloads/CaliforniaHousing/\",\n",
    "    ingested_train_dir= \"C:/Downloads/CaliforniaHousing/train.csv\",\n",
    "    ingested_test_dir= \"C:/Downloads/CaliforniaHousing/test.csv\"\n",
    ")"
   ]
  },
  {
   "cell_type": "code",
   "execution_count": null,
   "metadata": {},
   "outputs": [],
   "source": []
  }
 ],
 "metadata": {
  "kernelspec": {
   "display_name": "Python 3",
   "language": "python",
   "name": "python3"
  },
  "language_info": {
   "codemirror_mode": {
    "name": "ipython",
    "version": 3
   },
   "file_extension": ".py",
   "mimetype": "text/x-python",
   "name": "python",
   "nbconvert_exporter": "python",
   "pygments_lexer": "ipython3",
   "version": "3.7.0"
  },
  "orig_nbformat": 4,
  "vscode": {
   "interpreter": {
    "hash": "255d12a1ab0458ee298b29e891a91303848454324fd9e92ce89eb41445465bda"
   }
  }
 },
 "nbformat": 4,
 "nbformat_minor": 2
}
