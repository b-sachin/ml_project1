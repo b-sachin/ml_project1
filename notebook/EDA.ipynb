{
 "cells": [
  {
   "cell_type": "code",
   "execution_count": 1,
   "metadata": {},
   "outputs": [],
   "source": [
    "import os"
   ]
  },
  {
   "cell_type": "code",
   "execution_count": 2,
   "metadata": {},
   "outputs": [],
   "source": [
    "import pandas as pd\n"
   ]
  },
  {
   "cell_type": "code",
   "execution_count": 3,
   "metadata": {},
   "outputs": [
    {
     "data": {
      "text/plain": [
       "'d:\\\\Projects\\\\ML Projects\\\\ML_Project_01\\\\ml_project1\\\\notebook'"
      ]
     },
     "execution_count": 3,
     "metadata": {},
     "output_type": "execute_result"
    }
   ],
   "source": [
    "os.getcwd()"
   ]
  },
  {
   "cell_type": "code",
   "execution_count": 4,
   "metadata": {},
   "outputs": [],
   "source": [
    "train_file_path = r\"D:\\Projects\\ML Projects\\ML_Project_01\\ml_project1\\housing\\artifact\\data_ingestion\\2022-12-21-09-56-22\\ingested_data\\train\\housing.csv\""
   ]
  },
  {
   "cell_type": "code",
   "execution_count": 85,
   "metadata": {},
   "outputs": [],
   "source": [
    "df = pd.read_csv(train_file_path)"
   ]
  },
  {
   "cell_type": "code",
   "execution_count": 6,
   "metadata": {},
   "outputs": [
    {
     "data": {
      "text/html": [
       "<div>\n",
       "<style scoped>\n",
       "    .dataframe tbody tr th:only-of-type {\n",
       "        vertical-align: middle;\n",
       "    }\n",
       "\n",
       "    .dataframe tbody tr th {\n",
       "        vertical-align: top;\n",
       "    }\n",
       "\n",
       "    .dataframe thead th {\n",
       "        text-align: right;\n",
       "    }\n",
       "</style>\n",
       "<table border=\"1\" class=\"dataframe\">\n",
       "  <thead>\n",
       "    <tr style=\"text-align: right;\">\n",
       "      <th></th>\n",
       "      <th>longitude</th>\n",
       "      <th>latitude</th>\n",
       "      <th>housing_median_age</th>\n",
       "      <th>total_rooms</th>\n",
       "      <th>total_bedrooms</th>\n",
       "      <th>population</th>\n",
       "      <th>households</th>\n",
       "      <th>median_income</th>\n",
       "      <th>median_house_value</th>\n",
       "      <th>ocean_proximity</th>\n",
       "    </tr>\n",
       "  </thead>\n",
       "  <tbody>\n",
       "    <tr>\n",
       "      <th>0</th>\n",
       "      <td>-121.46</td>\n",
       "      <td>38.52</td>\n",
       "      <td>29.0</td>\n",
       "      <td>3873.0</td>\n",
       "      <td>797.0</td>\n",
       "      <td>2237.0</td>\n",
       "      <td>706.0</td>\n",
       "      <td>2.1736</td>\n",
       "      <td>72100.0</td>\n",
       "      <td>INLAND</td>\n",
       "    </tr>\n",
       "    <tr>\n",
       "      <th>1</th>\n",
       "      <td>-117.23</td>\n",
       "      <td>33.09</td>\n",
       "      <td>7.0</td>\n",
       "      <td>5320.0</td>\n",
       "      <td>855.0</td>\n",
       "      <td>2015.0</td>\n",
       "      <td>768.0</td>\n",
       "      <td>6.3373</td>\n",
       "      <td>279600.0</td>\n",
       "      <td>NEAR OCEAN</td>\n",
       "    </tr>\n",
       "    <tr>\n",
       "      <th>2</th>\n",
       "      <td>-119.04</td>\n",
       "      <td>35.37</td>\n",
       "      <td>44.0</td>\n",
       "      <td>1618.0</td>\n",
       "      <td>310.0</td>\n",
       "      <td>667.0</td>\n",
       "      <td>300.0</td>\n",
       "      <td>2.8750</td>\n",
       "      <td>82700.0</td>\n",
       "      <td>INLAND</td>\n",
       "    </tr>\n",
       "    <tr>\n",
       "      <th>3</th>\n",
       "      <td>-117.13</td>\n",
       "      <td>32.75</td>\n",
       "      <td>24.0</td>\n",
       "      <td>1877.0</td>\n",
       "      <td>519.0</td>\n",
       "      <td>898.0</td>\n",
       "      <td>483.0</td>\n",
       "      <td>2.2264</td>\n",
       "      <td>112500.0</td>\n",
       "      <td>NEAR OCEAN</td>\n",
       "    </tr>\n",
       "    <tr>\n",
       "      <th>4</th>\n",
       "      <td>-118.70</td>\n",
       "      <td>34.28</td>\n",
       "      <td>27.0</td>\n",
       "      <td>3536.0</td>\n",
       "      <td>646.0</td>\n",
       "      <td>1837.0</td>\n",
       "      <td>580.0</td>\n",
       "      <td>4.4964</td>\n",
       "      <td>238300.0</td>\n",
       "      <td>&lt;1H OCEAN</td>\n",
       "    </tr>\n",
       "  </tbody>\n",
       "</table>\n",
       "</div>"
      ],
      "text/plain": [
       "   longitude  latitude  housing_median_age  total_rooms  total_bedrooms  \\\n",
       "0    -121.46     38.52                29.0       3873.0           797.0   \n",
       "1    -117.23     33.09                 7.0       5320.0           855.0   \n",
       "2    -119.04     35.37                44.0       1618.0           310.0   \n",
       "3    -117.13     32.75                24.0       1877.0           519.0   \n",
       "4    -118.70     34.28                27.0       3536.0           646.0   \n",
       "\n",
       "   population  households  median_income  median_house_value ocean_proximity  \n",
       "0      2237.0       706.0         2.1736             72100.0          INLAND  \n",
       "1      2015.0       768.0         6.3373            279600.0      NEAR OCEAN  \n",
       "2       667.0       300.0         2.8750             82700.0          INLAND  \n",
       "3       898.0       483.0         2.2264            112500.0      NEAR OCEAN  \n",
       "4      1837.0       580.0         4.4964            238300.0       <1H OCEAN  "
      ]
     },
     "execution_count": 6,
     "metadata": {},
     "output_type": "execute_result"
    }
   ],
   "source": [
    "df.head()"
   ]
  },
  {
   "cell_type": "code",
   "execution_count": 7,
   "metadata": {},
   "outputs": [
    {
     "data": {
      "text/plain": [
       "(16512, 10)"
      ]
     },
     "execution_count": 7,
     "metadata": {},
     "output_type": "execute_result"
    }
   ],
   "source": [
    "df.shape"
   ]
  },
  {
   "cell_type": "code",
   "execution_count": 8,
   "metadata": {},
   "outputs": [],
   "source": [
    "X,y = df.drop(columns=[\"median_house_value\"], axis = 1),df[['median_house_value']]"
   ]
  },
  {
   "attachments": {},
   "cell_type": "markdown",
   "metadata": {},
   "source": [
    "____\n",
    "Diff between `df[\"median_house_value\"]` Vs `df[[\"median_house_value\"]]`"
   ]
  },
  {
   "cell_type": "code",
   "execution_count": 9,
   "metadata": {},
   "outputs": [
    {
     "data": {
      "text/plain": [
       "0         72100.0\n",
       "1        279600.0\n",
       "2         82700.0\n",
       "3        112500.0\n",
       "4        238300.0\n",
       "           ...   \n",
       "16507    268500.0\n",
       "16508     90400.0\n",
       "16509    140400.0\n",
       "16510    258100.0\n",
       "16511     62700.0\n",
       "Name: median_house_value, Length: 16512, dtype: float64"
      ]
     },
     "execution_count": 9,
     "metadata": {},
     "output_type": "execute_result"
    }
   ],
   "source": [
    "df[\"median_house_value\"]"
   ]
  },
  {
   "cell_type": "code",
   "execution_count": 10,
   "metadata": {},
   "outputs": [
    {
     "data": {
      "text/html": [
       "<div>\n",
       "<style scoped>\n",
       "    .dataframe tbody tr th:only-of-type {\n",
       "        vertical-align: middle;\n",
       "    }\n",
       "\n",
       "    .dataframe tbody tr th {\n",
       "        vertical-align: top;\n",
       "    }\n",
       "\n",
       "    .dataframe thead th {\n",
       "        text-align: right;\n",
       "    }\n",
       "</style>\n",
       "<table border=\"1\" class=\"dataframe\">\n",
       "  <thead>\n",
       "    <tr style=\"text-align: right;\">\n",
       "      <th></th>\n",
       "      <th>median_house_value</th>\n",
       "    </tr>\n",
       "  </thead>\n",
       "  <tbody>\n",
       "    <tr>\n",
       "      <th>0</th>\n",
       "      <td>72100.0</td>\n",
       "    </tr>\n",
       "    <tr>\n",
       "      <th>1</th>\n",
       "      <td>279600.0</td>\n",
       "    </tr>\n",
       "    <tr>\n",
       "      <th>2</th>\n",
       "      <td>82700.0</td>\n",
       "    </tr>\n",
       "    <tr>\n",
       "      <th>3</th>\n",
       "      <td>112500.0</td>\n",
       "    </tr>\n",
       "    <tr>\n",
       "      <th>4</th>\n",
       "      <td>238300.0</td>\n",
       "    </tr>\n",
       "    <tr>\n",
       "      <th>...</th>\n",
       "      <td>...</td>\n",
       "    </tr>\n",
       "    <tr>\n",
       "      <th>16507</th>\n",
       "      <td>268500.0</td>\n",
       "    </tr>\n",
       "    <tr>\n",
       "      <th>16508</th>\n",
       "      <td>90400.0</td>\n",
       "    </tr>\n",
       "    <tr>\n",
       "      <th>16509</th>\n",
       "      <td>140400.0</td>\n",
       "    </tr>\n",
       "    <tr>\n",
       "      <th>16510</th>\n",
       "      <td>258100.0</td>\n",
       "    </tr>\n",
       "    <tr>\n",
       "      <th>16511</th>\n",
       "      <td>62700.0</td>\n",
       "    </tr>\n",
       "  </tbody>\n",
       "</table>\n",
       "<p>16512 rows × 1 columns</p>\n",
       "</div>"
      ],
      "text/plain": [
       "       median_house_value\n",
       "0                 72100.0\n",
       "1                279600.0\n",
       "2                 82700.0\n",
       "3                112500.0\n",
       "4                238300.0\n",
       "...                   ...\n",
       "16507            268500.0\n",
       "16508             90400.0\n",
       "16509            140400.0\n",
       "16510            258100.0\n",
       "16511             62700.0\n",
       "\n",
       "[16512 rows x 1 columns]"
      ]
     },
     "execution_count": 10,
     "metadata": {},
     "output_type": "execute_result"
    }
   ],
   "source": [
    "df[[\"median_house_value\"]]"
   ]
  },
  {
   "attachments": {},
   "cell_type": "markdown",
   "metadata": {},
   "source": [
    "___"
   ]
  },
  {
   "cell_type": "code",
   "execution_count": 11,
   "metadata": {},
   "outputs": [
    {
     "data": {
      "text/html": [
       "<div>\n",
       "<style scoped>\n",
       "    .dataframe tbody tr th:only-of-type {\n",
       "        vertical-align: middle;\n",
       "    }\n",
       "\n",
       "    .dataframe tbody tr th {\n",
       "        vertical-align: top;\n",
       "    }\n",
       "\n",
       "    .dataframe thead th {\n",
       "        text-align: right;\n",
       "    }\n",
       "</style>\n",
       "<table border=\"1\" class=\"dataframe\">\n",
       "  <thead>\n",
       "    <tr style=\"text-align: right;\">\n",
       "      <th></th>\n",
       "      <th>longitude</th>\n",
       "      <th>latitude</th>\n",
       "      <th>housing_median_age</th>\n",
       "      <th>total_rooms</th>\n",
       "      <th>total_bedrooms</th>\n",
       "      <th>population</th>\n",
       "      <th>households</th>\n",
       "      <th>median_income</th>\n",
       "      <th>ocean_proximity</th>\n",
       "    </tr>\n",
       "  </thead>\n",
       "  <tbody>\n",
       "    <tr>\n",
       "      <th>0</th>\n",
       "      <td>-121.46</td>\n",
       "      <td>38.52</td>\n",
       "      <td>29.0</td>\n",
       "      <td>3873.0</td>\n",
       "      <td>797.0</td>\n",
       "      <td>2237.0</td>\n",
       "      <td>706.0</td>\n",
       "      <td>2.1736</td>\n",
       "      <td>INLAND</td>\n",
       "    </tr>\n",
       "    <tr>\n",
       "      <th>1</th>\n",
       "      <td>-117.23</td>\n",
       "      <td>33.09</td>\n",
       "      <td>7.0</td>\n",
       "      <td>5320.0</td>\n",
       "      <td>855.0</td>\n",
       "      <td>2015.0</td>\n",
       "      <td>768.0</td>\n",
       "      <td>6.3373</td>\n",
       "      <td>NEAR OCEAN</td>\n",
       "    </tr>\n",
       "    <tr>\n",
       "      <th>2</th>\n",
       "      <td>-119.04</td>\n",
       "      <td>35.37</td>\n",
       "      <td>44.0</td>\n",
       "      <td>1618.0</td>\n",
       "      <td>310.0</td>\n",
       "      <td>667.0</td>\n",
       "      <td>300.0</td>\n",
       "      <td>2.8750</td>\n",
       "      <td>INLAND</td>\n",
       "    </tr>\n",
       "    <tr>\n",
       "      <th>3</th>\n",
       "      <td>-117.13</td>\n",
       "      <td>32.75</td>\n",
       "      <td>24.0</td>\n",
       "      <td>1877.0</td>\n",
       "      <td>519.0</td>\n",
       "      <td>898.0</td>\n",
       "      <td>483.0</td>\n",
       "      <td>2.2264</td>\n",
       "      <td>NEAR OCEAN</td>\n",
       "    </tr>\n",
       "    <tr>\n",
       "      <th>4</th>\n",
       "      <td>-118.70</td>\n",
       "      <td>34.28</td>\n",
       "      <td>27.0</td>\n",
       "      <td>3536.0</td>\n",
       "      <td>646.0</td>\n",
       "      <td>1837.0</td>\n",
       "      <td>580.0</td>\n",
       "      <td>4.4964</td>\n",
       "      <td>&lt;1H OCEAN</td>\n",
       "    </tr>\n",
       "  </tbody>\n",
       "</table>\n",
       "</div>"
      ],
      "text/plain": [
       "   longitude  latitude  housing_median_age  total_rooms  total_bedrooms  \\\n",
       "0    -121.46     38.52                29.0       3873.0           797.0   \n",
       "1    -117.23     33.09                 7.0       5320.0           855.0   \n",
       "2    -119.04     35.37                44.0       1618.0           310.0   \n",
       "3    -117.13     32.75                24.0       1877.0           519.0   \n",
       "4    -118.70     34.28                27.0       3536.0           646.0   \n",
       "\n",
       "   population  households  median_income ocean_proximity  \n",
       "0      2237.0       706.0         2.1736          INLAND  \n",
       "1      2015.0       768.0         6.3373      NEAR OCEAN  \n",
       "2       667.0       300.0         2.8750          INLAND  \n",
       "3       898.0       483.0         2.2264      NEAR OCEAN  \n",
       "4      1837.0       580.0         4.4964       <1H OCEAN  "
      ]
     },
     "execution_count": 11,
     "metadata": {},
     "output_type": "execute_result"
    }
   ],
   "source": [
    "X.head()"
   ]
  },
  {
   "cell_type": "code",
   "execution_count": 12,
   "metadata": {},
   "outputs": [
    {
     "data": {
      "text/html": [
       "<div>\n",
       "<style scoped>\n",
       "    .dataframe tbody tr th:only-of-type {\n",
       "        vertical-align: middle;\n",
       "    }\n",
       "\n",
       "    .dataframe tbody tr th {\n",
       "        vertical-align: top;\n",
       "    }\n",
       "\n",
       "    .dataframe thead th {\n",
       "        text-align: right;\n",
       "    }\n",
       "</style>\n",
       "<table border=\"1\" class=\"dataframe\">\n",
       "  <thead>\n",
       "    <tr style=\"text-align: right;\">\n",
       "      <th></th>\n",
       "      <th>median_house_value</th>\n",
       "    </tr>\n",
       "  </thead>\n",
       "  <tbody>\n",
       "    <tr>\n",
       "      <th>0</th>\n",
       "      <td>72100.0</td>\n",
       "    </tr>\n",
       "    <tr>\n",
       "      <th>1</th>\n",
       "      <td>279600.0</td>\n",
       "    </tr>\n",
       "    <tr>\n",
       "      <th>2</th>\n",
       "      <td>82700.0</td>\n",
       "    </tr>\n",
       "    <tr>\n",
       "      <th>3</th>\n",
       "      <td>112500.0</td>\n",
       "    </tr>\n",
       "    <tr>\n",
       "      <th>4</th>\n",
       "      <td>238300.0</td>\n",
       "    </tr>\n",
       "  </tbody>\n",
       "</table>\n",
       "</div>"
      ],
      "text/plain": [
       "   median_house_value\n",
       "0             72100.0\n",
       "1            279600.0\n",
       "2             82700.0\n",
       "3            112500.0\n",
       "4            238300.0"
      ]
     },
     "execution_count": 12,
     "metadata": {},
     "output_type": "execute_result"
    }
   ],
   "source": [
    "y.head()"
   ]
  },
  {
   "cell_type": "code",
   "execution_count": 13,
   "metadata": {},
   "outputs": [
    {
     "data": {
      "text/plain": [
       "(16512, 9)"
      ]
     },
     "execution_count": 13,
     "metadata": {},
     "output_type": "execute_result"
    }
   ],
   "source": [
    "X.shape"
   ]
  },
  {
   "cell_type": "code",
   "execution_count": 14,
   "metadata": {},
   "outputs": [
    {
     "data": {
      "text/plain": [
       "(16512, 1)"
      ]
     },
     "execution_count": 14,
     "metadata": {},
     "output_type": "execute_result"
    }
   ],
   "source": [
    "y.shape"
   ]
  },
  {
   "cell_type": "code",
   "execution_count": 15,
   "metadata": {},
   "outputs": [
    {
     "data": {
      "text/plain": [
       "longitude               0\n",
       "latitude                0\n",
       "housing_median_age      0\n",
       "total_rooms             0\n",
       "total_bedrooms        158\n",
       "population              0\n",
       "households              0\n",
       "median_income           0\n",
       "ocean_proximity         0\n",
       "dtype: int64"
      ]
     },
     "execution_count": 15,
     "metadata": {},
     "output_type": "execute_result"
    }
   ],
   "source": [
    "X.isna().sum()"
   ]
  },
  {
   "cell_type": "code",
   "execution_count": 16,
   "metadata": {},
   "outputs": [],
   "source": [
    "from sklearn.impute import SimpleImputer"
   ]
  },
  {
   "cell_type": "code",
   "execution_count": 17,
   "metadata": {},
   "outputs": [],
   "source": [
    "numerical_column = X.drop(columns=['ocean_proximity'],axis=1)"
   ]
  },
  {
   "cell_type": "code",
   "execution_count": 18,
   "metadata": {},
   "outputs": [
    {
     "data": {
      "text/html": [
       "<div>\n",
       "<style scoped>\n",
       "    .dataframe tbody tr th:only-of-type {\n",
       "        vertical-align: middle;\n",
       "    }\n",
       "\n",
       "    .dataframe tbody tr th {\n",
       "        vertical-align: top;\n",
       "    }\n",
       "\n",
       "    .dataframe thead th {\n",
       "        text-align: right;\n",
       "    }\n",
       "</style>\n",
       "<table border=\"1\" class=\"dataframe\">\n",
       "  <thead>\n",
       "    <tr style=\"text-align: right;\">\n",
       "      <th></th>\n",
       "      <th>longitude</th>\n",
       "      <th>latitude</th>\n",
       "      <th>housing_median_age</th>\n",
       "      <th>total_rooms</th>\n",
       "      <th>total_bedrooms</th>\n",
       "      <th>population</th>\n",
       "      <th>households</th>\n",
       "      <th>median_income</th>\n",
       "    </tr>\n",
       "  </thead>\n",
       "  <tbody>\n",
       "    <tr>\n",
       "      <th>0</th>\n",
       "      <td>-121.46</td>\n",
       "      <td>38.52</td>\n",
       "      <td>29.0</td>\n",
       "      <td>3873.0</td>\n",
       "      <td>797.0</td>\n",
       "      <td>2237.0</td>\n",
       "      <td>706.0</td>\n",
       "      <td>2.1736</td>\n",
       "    </tr>\n",
       "    <tr>\n",
       "      <th>1</th>\n",
       "      <td>-117.23</td>\n",
       "      <td>33.09</td>\n",
       "      <td>7.0</td>\n",
       "      <td>5320.0</td>\n",
       "      <td>855.0</td>\n",
       "      <td>2015.0</td>\n",
       "      <td>768.0</td>\n",
       "      <td>6.3373</td>\n",
       "    </tr>\n",
       "    <tr>\n",
       "      <th>2</th>\n",
       "      <td>-119.04</td>\n",
       "      <td>35.37</td>\n",
       "      <td>44.0</td>\n",
       "      <td>1618.0</td>\n",
       "      <td>310.0</td>\n",
       "      <td>667.0</td>\n",
       "      <td>300.0</td>\n",
       "      <td>2.8750</td>\n",
       "    </tr>\n",
       "    <tr>\n",
       "      <th>3</th>\n",
       "      <td>-117.13</td>\n",
       "      <td>32.75</td>\n",
       "      <td>24.0</td>\n",
       "      <td>1877.0</td>\n",
       "      <td>519.0</td>\n",
       "      <td>898.0</td>\n",
       "      <td>483.0</td>\n",
       "      <td>2.2264</td>\n",
       "    </tr>\n",
       "    <tr>\n",
       "      <th>4</th>\n",
       "      <td>-118.70</td>\n",
       "      <td>34.28</td>\n",
       "      <td>27.0</td>\n",
       "      <td>3536.0</td>\n",
       "      <td>646.0</td>\n",
       "      <td>1837.0</td>\n",
       "      <td>580.0</td>\n",
       "      <td>4.4964</td>\n",
       "    </tr>\n",
       "  </tbody>\n",
       "</table>\n",
       "</div>"
      ],
      "text/plain": [
       "   longitude  latitude  housing_median_age  total_rooms  total_bedrooms  \\\n",
       "0    -121.46     38.52                29.0       3873.0           797.0   \n",
       "1    -117.23     33.09                 7.0       5320.0           855.0   \n",
       "2    -119.04     35.37                44.0       1618.0           310.0   \n",
       "3    -117.13     32.75                24.0       1877.0           519.0   \n",
       "4    -118.70     34.28                27.0       3536.0           646.0   \n",
       "\n",
       "   population  households  median_income  \n",
       "0      2237.0       706.0         2.1736  \n",
       "1      2015.0       768.0         6.3373  \n",
       "2       667.0       300.0         2.8750  \n",
       "3       898.0       483.0         2.2264  \n",
       "4      1837.0       580.0         4.4964  "
      ]
     },
     "execution_count": 18,
     "metadata": {},
     "output_type": "execute_result"
    }
   ],
   "source": [
    "numerical_column.head()"
   ]
  },
  {
   "cell_type": "code",
   "execution_count": 19,
   "metadata": {},
   "outputs": [],
   "source": [
    "simple_imputer = SimpleImputer(strategy=\"median\")"
   ]
  },
  {
   "cell_type": "code",
   "execution_count": 20,
   "metadata": {},
   "outputs": [
    {
     "data": {
      "text/plain": [
       "array([[-1.2146e+02,  3.8520e+01,  2.9000e+01, ...,  2.2370e+03,\n",
       "         7.0600e+02,  2.1736e+00],\n",
       "       [-1.1723e+02,  3.3090e+01,  7.0000e+00, ...,  2.0150e+03,\n",
       "         7.6800e+02,  6.3373e+00],\n",
       "       [-1.1904e+02,  3.5370e+01,  4.4000e+01, ...,  6.6700e+02,\n",
       "         3.0000e+02,  2.8750e+00],\n",
       "       ...,\n",
       "       [-1.2272e+02,  3.8440e+01,  4.8000e+01, ...,  4.5800e+02,\n",
       "         1.7200e+02,  3.1797e+00],\n",
       "       [-1.2270e+02,  3.8310e+01,  1.4000e+01, ...,  1.2080e+03,\n",
       "         5.0100e+02,  4.1964e+00],\n",
       "       [-1.2214e+02,  3.9970e+01,  2.7000e+01, ...,  6.2500e+02,\n",
       "         1.9700e+02,  3.1319e+00]])"
      ]
     },
     "execution_count": 20,
     "metadata": {},
     "output_type": "execute_result"
    }
   ],
   "source": [
    "simple_imputer.fit_transform(numerical_column)"
   ]
  },
  {
   "cell_type": "code",
   "execution_count": 21,
   "metadata": {},
   "outputs": [],
   "source": [
    "simple_imputer.transform(numerical_column)"
   ]
  },
  {
   "cell_type": "code",
   "execution_count": 22,
   "metadata": {},
   "outputs": [
    {
     "data": {
      "text/plain": [
       "array(['longitude', 'latitude', 'housing_median_age', 'total_rooms',\n",
       "       'total_bedrooms', 'population', 'households', 'median_income'],\n",
       "      dtype=object)"
      ]
     },
     "execution_count": 22,
     "metadata": {},
     "output_type": "execute_result"
    }
   ],
   "source": [
    "simple_imputer.feature_names_in_"
   ]
  },
  {
   "cell_type": "code",
   "execution_count": 23,
   "metadata": {},
   "outputs": [
    {
     "data": {
      "text/plain": [
       "array([-118.51   ,   34.26   ,   29.     , 2119.     ,  433.     ,\n",
       "       1164.     ,  408.     ,    3.54155])"
      ]
     },
     "execution_count": 23,
     "metadata": {},
     "output_type": "execute_result"
    }
   ],
   "source": [
    "simple_imputer.statistics_"
   ]
  },
  {
   "cell_type": "code",
   "execution_count": 24,
   "metadata": {},
   "outputs": [
    {
     "data": {
      "text/plain": [
       "0       -121.46\n",
       "1       -117.23\n",
       "2       -119.04\n",
       "3       -117.13\n",
       "4       -118.70\n",
       "          ...  \n",
       "16507   -117.07\n",
       "16508   -121.42\n",
       "16509   -122.72\n",
       "16510   -122.70\n",
       "16511   -122.14\n",
       "Name: longitude, Length: 16512, dtype: float64"
      ]
     },
     "execution_count": 24,
     "metadata": {},
     "output_type": "execute_result"
    }
   ],
   "source": [
    "X.longitude"
   ]
  },
  {
   "cell_type": "code",
   "execution_count": 25,
   "metadata": {},
   "outputs": [
    {
     "data": {
      "text/plain": [
       "-118.51"
      ]
     },
     "execution_count": 25,
     "metadata": {},
     "output_type": "execute_result"
    }
   ],
   "source": [
    "X.longitude.median()"
   ]
  },
  {
   "cell_type": "code",
   "execution_count": 26,
   "metadata": {},
   "outputs": [
    {
     "data": {
      "text/plain": [
       "34.26"
      ]
     },
     "execution_count": 26,
     "metadata": {},
     "output_type": "execute_result"
    }
   ],
   "source": [
    "X.latitude.median()"
   ]
  },
  {
   "cell_type": "code",
   "execution_count": 27,
   "metadata": {},
   "outputs": [
    {
     "data": {
      "text/plain": [
       "array([-118.51   ,   34.26   ,   29.     , 2119.     ,  433.     ,\n",
       "       1164.     ,  408.     ,    3.54155])"
      ]
     },
     "execution_count": 27,
     "metadata": {},
     "output_type": "execute_result"
    }
   ],
   "source": [
    "simple_imputer.statistics_"
   ]
  },
  {
   "cell_type": "code",
   "execution_count": 28,
   "metadata": {},
   "outputs": [
    {
     "data": {
      "text/plain": [
       "array(['longitude', 'latitude', 'housing_median_age', 'total_rooms',\n",
       "       'total_bedrooms', 'population', 'households', 'median_income'],\n",
       "      dtype=object)"
      ]
     },
     "execution_count": 28,
     "metadata": {},
     "output_type": "execute_result"
    }
   ],
   "source": [
    "simple_imputer.feature_names_in_"
   ]
  },
  {
   "cell_type": "code",
   "execution_count": 29,
   "metadata": {},
   "outputs": [
    {
     "data": {
      "text/plain": [
       "0            INLAND\n",
       "1        NEAR OCEAN\n",
       "2            INLAND\n",
       "3        NEAR OCEAN\n",
       "4         <1H OCEAN\n",
       "            ...    \n",
       "16507     <1H OCEAN\n",
       "16508        INLAND\n",
       "16509     <1H OCEAN\n",
       "16510     <1H OCEAN\n",
       "16511        INLAND\n",
       "Name: ocean_proximity, Length: 16512, dtype: object"
      ]
     },
     "execution_count": 29,
     "metadata": {},
     "output_type": "execute_result"
    }
   ],
   "source": [
    "X.ocean_proximity"
   ]
  },
  {
   "cell_type": "code",
   "execution_count": 30,
   "metadata": {},
   "outputs": [
    {
     "data": {
      "text/plain": [
       "<1H OCEAN     7277\n",
       "INLAND        5262\n",
       "NEAR OCEAN    2124\n",
       "NEAR BAY      1847\n",
       "ISLAND           2\n",
       "Name: ocean_proximity, dtype: int64"
      ]
     },
     "execution_count": 30,
     "metadata": {},
     "output_type": "execute_result"
    }
   ],
   "source": [
    "X.ocean_proximity.value_counts()"
   ]
  },
  {
   "cell_type": "code",
   "execution_count": 31,
   "metadata": {},
   "outputs": [],
   "source": [
    "cat_simple_imputer = SimpleImputer(strategy=\"most_frequent\")"
   ]
  },
  {
   "cell_type": "code",
   "execution_count": 32,
   "metadata": {},
   "outputs": [
    {
     "data": {
      "text/plain": [
       "array([['INLAND'],\n",
       "       ['NEAR OCEAN'],\n",
       "       ['INLAND'],\n",
       "       ...,\n",
       "       ['<1H OCEAN'],\n",
       "       ['<1H OCEAN'],\n",
       "       ['INLAND']], dtype=object)"
      ]
     },
     "execution_count": 32,
     "metadata": {},
     "output_type": "execute_result"
    }
   ],
   "source": [
    "cat_simple_imputer.fit_transform(X[['ocean_proximity']])"
   ]
  },
  {
   "cell_type": "code",
   "execution_count": 33,
   "metadata": {},
   "outputs": [
    {
     "data": {
      "text/plain": [
       "array(['ocean_proximity'], dtype=object)"
      ]
     },
     "execution_count": 33,
     "metadata": {},
     "output_type": "execute_result"
    }
   ],
   "source": [
    "cat_simple_imputer.feature_names_in_"
   ]
  },
  {
   "cell_type": "code",
   "execution_count": 34,
   "metadata": {},
   "outputs": [
    {
     "data": {
      "text/plain": [
       "array(['<1H OCEAN'], dtype=object)"
      ]
     },
     "execution_count": 34,
     "metadata": {},
     "output_type": "execute_result"
    }
   ],
   "source": [
    "cat_simple_imputer.statistics_"
   ]
  },
  {
   "attachments": {},
   "cell_type": "markdown",
   "metadata": {},
   "source": [
    "___\n",
    "Code for Custom fit(), transform() and fit_transform() generator"
   ]
  },
  {
   "cell_type": "code",
   "execution_count": 35,
   "metadata": {},
   "outputs": [],
   "source": [
    "class FeatureGenerator:\n",
    "    def __init__(self,strategy = \"median\") -> None:\n",
    "        self.strategy = strategy\n",
    "\n",
    "    def fit(self,X):\n",
    "        self.feature_names_in_= X.columns\n",
    "        self.statistics_ = []\n",
    "        for i in self.feature_names_in_:\n",
    "            self.statistics_.append(X[i].median())\n",
    "\n",
    "    def transform(self,X:pd.DataFrame):\n",
    "        for idx,i in enumerate(X.columns):\n",
    "            X[i].fillna(self.statistics_[idx],inplace=True)\n",
    "        return X\n",
    "\n",
    "    def fit_transform(self,X):\n",
    "        self.fit(X)\n",
    "        return self.transform(X)"
   ]
  },
  {
   "cell_type": "code",
   "execution_count": 36,
   "metadata": {},
   "outputs": [
    {
     "name": "stdout",
     "output_type": "stream",
     "text": [
      "0 longitude\n",
      "1 latitude\n",
      "2 housing_median_age\n",
      "3 total_rooms\n",
      "4 total_bedrooms\n",
      "5 population\n",
      "6 households\n",
      "7 median_income\n",
      "8 ocean_proximity\n"
     ]
    }
   ],
   "source": [
    "for idx,i in enumerate(X.columns):\n",
    "    print(idx,i)"
   ]
  },
  {
   "cell_type": "code",
   "execution_count": 37,
   "metadata": {},
   "outputs": [],
   "source": [
    "obj =FeatureGenerator()"
   ]
  },
  {
   "cell_type": "code",
   "execution_count": 38,
   "metadata": {},
   "outputs": [],
   "source": [
    "obj.fit(numerical_column)"
   ]
  },
  {
   "cell_type": "code",
   "execution_count": 39,
   "metadata": {},
   "outputs": [
    {
     "data": {
      "text/plain": [
       "[-118.51, 34.26, 29.0, 2119.0, 433.0, 1164.0, 408.0, 3.54155]"
      ]
     },
     "execution_count": 39,
     "metadata": {},
     "output_type": "execute_result"
    }
   ],
   "source": [
    "obj.statistics_"
   ]
  },
  {
   "cell_type": "code",
   "execution_count": 40,
   "metadata": {},
   "outputs": [
    {
     "data": {
      "text/plain": [
       "longitude               0\n",
       "latitude                0\n",
       "housing_median_age      0\n",
       "total_rooms             0\n",
       "total_bedrooms        158\n",
       "population              0\n",
       "households              0\n",
       "median_income           0\n",
       "dtype: int64"
      ]
     },
     "execution_count": 40,
     "metadata": {},
     "output_type": "execute_result"
    }
   ],
   "source": [
    "numerical_column.isna().sum()"
   ]
  },
  {
   "cell_type": "code",
   "execution_count": 41,
   "metadata": {},
   "outputs": [],
   "source": [
    "na_idx = numerical_column[numerical_column['total_bedrooms'].isna()].index"
   ]
  },
  {
   "cell_type": "code",
   "execution_count": 42,
   "metadata": {},
   "outputs": [],
   "source": [
    "na_idx_list = [i for i in na_idx]"
   ]
  },
  {
   "cell_type": "code",
   "execution_count": 43,
   "metadata": {},
   "outputs": [
    {
     "data": {
      "text/plain": [
       "[86, 373, 431, 528, 647, 681, 747, 888, 963, 1013]"
      ]
     },
     "execution_count": 43,
     "metadata": {},
     "output_type": "execute_result"
    }
   ],
   "source": [
    "na_idx_list[:10]"
   ]
  },
  {
   "cell_type": "code",
   "execution_count": 44,
   "metadata": {},
   "outputs": [],
   "source": [
    "res = obj.fit_transform(numerical_column)"
   ]
  },
  {
   "cell_type": "code",
   "execution_count": 45,
   "metadata": {},
   "outputs": [
    {
     "data": {
      "text/html": [
       "<div>\n",
       "<style scoped>\n",
       "    .dataframe tbody tr th:only-of-type {\n",
       "        vertical-align: middle;\n",
       "    }\n",
       "\n",
       "    .dataframe tbody tr th {\n",
       "        vertical-align: top;\n",
       "    }\n",
       "\n",
       "    .dataframe thead th {\n",
       "        text-align: right;\n",
       "    }\n",
       "</style>\n",
       "<table border=\"1\" class=\"dataframe\">\n",
       "  <thead>\n",
       "    <tr style=\"text-align: right;\">\n",
       "      <th></th>\n",
       "      <th>longitude</th>\n",
       "      <th>latitude</th>\n",
       "      <th>housing_median_age</th>\n",
       "      <th>total_rooms</th>\n",
       "      <th>total_bedrooms</th>\n",
       "      <th>population</th>\n",
       "      <th>households</th>\n",
       "      <th>median_income</th>\n",
       "    </tr>\n",
       "  </thead>\n",
       "  <tbody>\n",
       "    <tr>\n",
       "      <th>85</th>\n",
       "      <td>-118.17</td>\n",
       "      <td>34.05</td>\n",
       "      <td>35.0</td>\n",
       "      <td>1256.0</td>\n",
       "      <td>294.0</td>\n",
       "      <td>2990.0</td>\n",
       "      <td>302.0</td>\n",
       "      <td>3.1528</td>\n",
       "    </tr>\n",
       "    <tr>\n",
       "      <th>86</th>\n",
       "      <td>-122.08</td>\n",
       "      <td>37.88</td>\n",
       "      <td>26.0</td>\n",
       "      <td>2947.0</td>\n",
       "      <td>433.0</td>\n",
       "      <td>825.0</td>\n",
       "      <td>626.0</td>\n",
       "      <td>2.9330</td>\n",
       "    </tr>\n",
       "    <tr>\n",
       "      <th>87</th>\n",
       "      <td>-118.22</td>\n",
       "      <td>33.98</td>\n",
       "      <td>36.0</td>\n",
       "      <td>1514.0</td>\n",
       "      <td>453.0</td>\n",
       "      <td>1496.0</td>\n",
       "      <td>448.0</td>\n",
       "      <td>2.1044</td>\n",
       "    </tr>\n",
       "  </tbody>\n",
       "</table>\n",
       "</div>"
      ],
      "text/plain": [
       "    longitude  latitude  housing_median_age  total_rooms  total_bedrooms  \\\n",
       "85    -118.17     34.05                35.0       1256.0           294.0   \n",
       "86    -122.08     37.88                26.0       2947.0           433.0   \n",
       "87    -118.22     33.98                36.0       1514.0           453.0   \n",
       "\n",
       "    population  households  median_income  \n",
       "85      2990.0       302.0         3.1528  \n",
       "86       825.0       626.0         2.9330  \n",
       "87      1496.0       448.0         2.1044  "
      ]
     },
     "execution_count": 45,
     "metadata": {},
     "output_type": "execute_result"
    }
   ],
   "source": [
    "res.loc[85:87,]"
   ]
  },
  {
   "cell_type": "code",
   "execution_count": 46,
   "metadata": {},
   "outputs": [
    {
     "data": {
      "text/plain": [
       "[-118.51, 34.26, 29.0, 2119.0, 433.0, 1164.0, 408.0, 3.54155]"
      ]
     },
     "execution_count": 46,
     "metadata": {},
     "output_type": "execute_result"
    }
   ],
   "source": [
    "obj.statistics_"
   ]
  },
  {
   "cell_type": "code",
   "execution_count": 47,
   "metadata": {},
   "outputs": [
    {
     "data": {
      "text/html": [
       "<div>\n",
       "<style scoped>\n",
       "    .dataframe tbody tr th:only-of-type {\n",
       "        vertical-align: middle;\n",
       "    }\n",
       "\n",
       "    .dataframe tbody tr th {\n",
       "        vertical-align: top;\n",
       "    }\n",
       "\n",
       "    .dataframe thead th {\n",
       "        text-align: right;\n",
       "    }\n",
       "</style>\n",
       "<table border=\"1\" class=\"dataframe\">\n",
       "  <thead>\n",
       "    <tr style=\"text-align: right;\">\n",
       "      <th></th>\n",
       "      <th>longitude</th>\n",
       "      <th>latitude</th>\n",
       "      <th>housing_median_age</th>\n",
       "      <th>total_rooms</th>\n",
       "      <th>total_bedrooms</th>\n",
       "      <th>population</th>\n",
       "      <th>households</th>\n",
       "      <th>median_income</th>\n",
       "    </tr>\n",
       "  </thead>\n",
       "  <tbody>\n",
       "    <tr>\n",
       "      <th>86</th>\n",
       "      <td>-122.08</td>\n",
       "      <td>37.88</td>\n",
       "      <td>26.0</td>\n",
       "      <td>2947.0</td>\n",
       "      <td>433.0</td>\n",
       "      <td>825.0</td>\n",
       "      <td>626.0</td>\n",
       "      <td>2.9330</td>\n",
       "    </tr>\n",
       "    <tr>\n",
       "      <th>373</th>\n",
       "      <td>-117.87</td>\n",
       "      <td>33.73</td>\n",
       "      <td>45.0</td>\n",
       "      <td>2264.0</td>\n",
       "      <td>433.0</td>\n",
       "      <td>1970.0</td>\n",
       "      <td>499.0</td>\n",
       "      <td>3.4193</td>\n",
       "    </tr>\n",
       "    <tr>\n",
       "      <th>431</th>\n",
       "      <td>-122.70</td>\n",
       "      <td>38.35</td>\n",
       "      <td>14.0</td>\n",
       "      <td>2313.0</td>\n",
       "      <td>433.0</td>\n",
       "      <td>954.0</td>\n",
       "      <td>397.0</td>\n",
       "      <td>3.7813</td>\n",
       "    </tr>\n",
       "    <tr>\n",
       "      <th>528</th>\n",
       "      <td>-118.23</td>\n",
       "      <td>34.13</td>\n",
       "      <td>48.0</td>\n",
       "      <td>1308.0</td>\n",
       "      <td>433.0</td>\n",
       "      <td>835.0</td>\n",
       "      <td>294.0</td>\n",
       "      <td>4.2891</td>\n",
       "    </tr>\n",
       "    <tr>\n",
       "      <th>647</th>\n",
       "      <td>-122.40</td>\n",
       "      <td>37.58</td>\n",
       "      <td>26.0</td>\n",
       "      <td>3281.0</td>\n",
       "      <td>433.0</td>\n",
       "      <td>1145.0</td>\n",
       "      <td>480.0</td>\n",
       "      <td>6.3580</td>\n",
       "    </tr>\n",
       "    <tr>\n",
       "      <th>...</th>\n",
       "      <td>...</td>\n",
       "      <td>...</td>\n",
       "      <td>...</td>\n",
       "      <td>...</td>\n",
       "      <td>...</td>\n",
       "      <td>...</td>\n",
       "      <td>...</td>\n",
       "      <td>...</td>\n",
       "    </tr>\n",
       "    <tr>\n",
       "      <th>15894</th>\n",
       "      <td>-121.95</td>\n",
       "      <td>38.03</td>\n",
       "      <td>5.0</td>\n",
       "      <td>5526.0</td>\n",
       "      <td>433.0</td>\n",
       "      <td>3207.0</td>\n",
       "      <td>1012.0</td>\n",
       "      <td>4.0767</td>\n",
       "    </tr>\n",
       "    <tr>\n",
       "      <th>16109</th>\n",
       "      <td>-118.37</td>\n",
       "      <td>34.07</td>\n",
       "      <td>50.0</td>\n",
       "      <td>2519.0</td>\n",
       "      <td>433.0</td>\n",
       "      <td>1117.0</td>\n",
       "      <td>516.0</td>\n",
       "      <td>4.3667</td>\n",
       "    </tr>\n",
       "    <tr>\n",
       "      <th>16129</th>\n",
       "      <td>-118.50</td>\n",
       "      <td>34.46</td>\n",
       "      <td>17.0</td>\n",
       "      <td>10267.0</td>\n",
       "      <td>433.0</td>\n",
       "      <td>4956.0</td>\n",
       "      <td>1483.0</td>\n",
       "      <td>5.5061</td>\n",
       "    </tr>\n",
       "    <tr>\n",
       "      <th>16152</th>\n",
       "      <td>-122.48</td>\n",
       "      <td>37.70</td>\n",
       "      <td>33.0</td>\n",
       "      <td>4492.0</td>\n",
       "      <td>433.0</td>\n",
       "      <td>3477.0</td>\n",
       "      <td>1537.0</td>\n",
       "      <td>3.0546</td>\n",
       "    </tr>\n",
       "    <tr>\n",
       "      <th>16370</th>\n",
       "      <td>-117.67</td>\n",
       "      <td>34.04</td>\n",
       "      <td>13.0</td>\n",
       "      <td>1543.0</td>\n",
       "      <td>433.0</td>\n",
       "      <td>776.0</td>\n",
       "      <td>358.0</td>\n",
       "      <td>3.0598</td>\n",
       "    </tr>\n",
       "  </tbody>\n",
       "</table>\n",
       "<p>158 rows × 8 columns</p>\n",
       "</div>"
      ],
      "text/plain": [
       "       longitude  latitude  housing_median_age  total_rooms  total_bedrooms  \\\n",
       "86       -122.08     37.88                26.0       2947.0           433.0   \n",
       "373      -117.87     33.73                45.0       2264.0           433.0   \n",
       "431      -122.70     38.35                14.0       2313.0           433.0   \n",
       "528      -118.23     34.13                48.0       1308.0           433.0   \n",
       "647      -122.40     37.58                26.0       3281.0           433.0   \n",
       "...          ...       ...                 ...          ...             ...   \n",
       "15894    -121.95     38.03                 5.0       5526.0           433.0   \n",
       "16109    -118.37     34.07                50.0       2519.0           433.0   \n",
       "16129    -118.50     34.46                17.0      10267.0           433.0   \n",
       "16152    -122.48     37.70                33.0       4492.0           433.0   \n",
       "16370    -117.67     34.04                13.0       1543.0           433.0   \n",
       "\n",
       "       population  households  median_income  \n",
       "86          825.0       626.0         2.9330  \n",
       "373        1970.0       499.0         3.4193  \n",
       "431         954.0       397.0         3.7813  \n",
       "528         835.0       294.0         4.2891  \n",
       "647        1145.0       480.0         6.3580  \n",
       "...           ...         ...            ...  \n",
       "15894      3207.0      1012.0         4.0767  \n",
       "16109      1117.0       516.0         4.3667  \n",
       "16129      4956.0      1483.0         5.5061  \n",
       "16152      3477.0      1537.0         3.0546  \n",
       "16370       776.0       358.0         3.0598  \n",
       "\n",
       "[158 rows x 8 columns]"
      ]
     },
     "execution_count": 47,
     "metadata": {},
     "output_type": "execute_result"
    }
   ],
   "source": [
    "res.iloc[na_idx_list]"
   ]
  },
  {
   "cell_type": "code",
   "execution_count": 48,
   "metadata": {},
   "outputs": [
    {
     "data": {
      "text/html": [
       "<div>\n",
       "<style scoped>\n",
       "    .dataframe tbody tr th:only-of-type {\n",
       "        vertical-align: middle;\n",
       "    }\n",
       "\n",
       "    .dataframe tbody tr th {\n",
       "        vertical-align: top;\n",
       "    }\n",
       "\n",
       "    .dataframe thead th {\n",
       "        text-align: right;\n",
       "    }\n",
       "</style>\n",
       "<table border=\"1\" class=\"dataframe\">\n",
       "  <thead>\n",
       "    <tr style=\"text-align: right;\">\n",
       "      <th></th>\n",
       "      <th>longitude</th>\n",
       "      <th>latitude</th>\n",
       "      <th>housing_median_age</th>\n",
       "      <th>total_rooms</th>\n",
       "      <th>total_bedrooms</th>\n",
       "      <th>population</th>\n",
       "      <th>households</th>\n",
       "      <th>median_income</th>\n",
       "    </tr>\n",
       "  </thead>\n",
       "  <tbody>\n",
       "    <tr>\n",
       "      <th>372</th>\n",
       "      <td>-117.96</td>\n",
       "      <td>33.81</td>\n",
       "      <td>35.0</td>\n",
       "      <td>1996.0</td>\n",
       "      <td>326.0</td>\n",
       "      <td>1409.0</td>\n",
       "      <td>330.0</td>\n",
       "      <td>4.7738</td>\n",
       "    </tr>\n",
       "    <tr>\n",
       "      <th>373</th>\n",
       "      <td>-117.87</td>\n",
       "      <td>33.73</td>\n",
       "      <td>45.0</td>\n",
       "      <td>2264.0</td>\n",
       "      <td>433.0</td>\n",
       "      <td>1970.0</td>\n",
       "      <td>499.0</td>\n",
       "      <td>3.4193</td>\n",
       "    </tr>\n",
       "    <tr>\n",
       "      <th>374</th>\n",
       "      <td>-118.13</td>\n",
       "      <td>33.86</td>\n",
       "      <td>45.0</td>\n",
       "      <td>1320.0</td>\n",
       "      <td>256.0</td>\n",
       "      <td>645.0</td>\n",
       "      <td>256.0</td>\n",
       "      <td>4.4000</td>\n",
       "    </tr>\n",
       "  </tbody>\n",
       "</table>\n",
       "</div>"
      ],
      "text/plain": [
       "     longitude  latitude  housing_median_age  total_rooms  total_bedrooms  \\\n",
       "372    -117.96     33.81                35.0       1996.0           326.0   \n",
       "373    -117.87     33.73                45.0       2264.0           433.0   \n",
       "374    -118.13     33.86                45.0       1320.0           256.0   \n",
       "\n",
       "     population  households  median_income  \n",
       "372      1409.0       330.0         4.7738  \n",
       "373      1970.0       499.0         3.4193  \n",
       "374       645.0       256.0         4.4000  "
      ]
     },
     "execution_count": 48,
     "metadata": {},
     "output_type": "execute_result"
    }
   ],
   "source": [
    "obj.transform(numerical_column).loc[372:374,]"
   ]
  },
  {
   "attachments": {},
   "cell_type": "markdown",
   "metadata": {},
   "source": [
    "___\n",
    "TransformerMixin\n",
    "\n",
    "If you dont want to use custom `fit()`,`transform()` and `fit_transform()` then you can inherit `TransformerMixin` which has inbuild `fit()`,`transform()` and `fit_transform()` methods."
   ]
  },
  {
   "cell_type": "code",
   "execution_count": 49,
   "metadata": {},
   "outputs": [],
   "source": [
    "from sklearn.base import BaseEstimator, TransformerMixin"
   ]
  },
  {
   "cell_type": "code",
   "execution_count": 50,
   "metadata": {},
   "outputs": [],
   "source": [
    "class FeatureGeneratorDirect(BaseEstimator,TransformerMixin):\n",
    "    def __init__(self,strategy = \"median\") -> None:\n",
    "        self.strategy = strategy"
   ]
  },
  {
   "attachments": {},
   "cell_type": "markdown",
   "metadata": {},
   "source": [
    "____\n"
   ]
  },
  {
   "cell_type": "code",
   "execution_count": 61,
   "metadata": {},
   "outputs": [],
   "source": [
    "from sklearn.base import BaseEstimator, TransformerMixin\n",
    "from housing.exception import HousingException\n",
    "import sys\n",
    "import numpy as np"
   ]
  },
  {
   "cell_type": "code",
   "execution_count": 70,
   "metadata": {},
   "outputs": [],
   "source": [
    "COLUMN_TOTAL_ROOMS = \"total_rooms\"\n",
    "COLUMN_POPULATION = \"population\"\n",
    "COLUMN_HOUSEHOLDS = \"households\"\n",
    "COLUMN_TOTAL_BEDROOM = \"total_bedrooms\""
   ]
  },
  {
   "cell_type": "code",
   "execution_count": 77,
   "metadata": {},
   "outputs": [],
   "source": [
    "class FeatureGenerator(BaseEstimator, TransformerMixin):\n",
    "    def __init__(self, add_bedrooms_per_room = True,\n",
    "                 total_rooms_ix = 3,\n",
    "                 population_ix = 5,\n",
    "                 households_ix = 6,\n",
    "                 total_bedrooms_ix = 4,\n",
    "                 columns = None):\n",
    "    \n",
    "        \"\"\"\n",
    "        FeatureGenerator Initialization\n",
    "        add_bedrooms_per_room: bool\n",
    "        total_rooms_ix: int index number of total rooms columns\n",
    "        population_ix: int index number of total population columns\n",
    "        households_ix: int index number of total households columns\n",
    "        total_bedrooms_ix: int index number of total bedrooms columns\n",
    "        \"\"\"\n",
    "        try:\n",
    "            self.columns = columns\n",
    "            if self.columns is not None:\n",
    "                total_rooms_ix = self.columns.index(COLUMN_TOTAL_ROOMS)\n",
    "                population_ix = self.columns.index(COLUMN_POPULATION)\n",
    "                households_ix = self.columns.index(COLUMN_HOUSEHOLDS)\n",
    "                total_bedrooms_ix = self.columns.index(COLUMN_TOTAL_BEDROOM)\n",
    "\n",
    "            self.add_bedrooms_per_room = add_bedrooms_per_room\n",
    "            self.total_rooms_ix = total_rooms_ix\n",
    "            self.population_ix = population_ix\n",
    "            self.households_ix = households_ix\n",
    "            self.total_bedrooms_ix = total_bedrooms_ix\n",
    "        except Exception as e:\n",
    "            raise HousingException(e,sys) from e\n",
    "\n",
    "    def fit(self, X, y=None):\n",
    "        return self\n",
    "\n",
    "    def transform(self, X, y=None):\n",
    "        try:\n",
    "            room_per_household = X[:, self.total_rooms_ix] / X[:, self.households_ix]\n",
    "            population_per_household = X[:, self.population_ix] / X[:, self.households_ix]\n",
    "            if self.add_bedrooms_per_room:\n",
    "                bedroom_per_room = X[:, self.total_bedrooms_ix] / X[:, self.total_rooms_ix]\n",
    "\n",
    "                generated_feature = np.c_[X,room_per_household,population_per_household,bedroom_per_room]\n",
    "            else:\n",
    "                generated_feature = np.c_[X,room_per_household,population_per_household]\n",
    "            \n",
    "            return generated_feature\n",
    "        except Exception as e:\n",
    "            raise HousingException(e,sys) from e                \n"
   ]
  },
  {
   "cell_type": "code",
   "execution_count": 63,
   "metadata": {},
   "outputs": [],
   "source": [
    "arr1 = np.arange(1,10)\n",
    "arr2 = np.arange(11,20)"
   ]
  },
  {
   "cell_type": "code",
   "execution_count": 64,
   "metadata": {},
   "outputs": [
    {
     "name": "stdout",
     "output_type": "stream",
     "text": [
      "arr1: [1 2 3 4 5 6 7 8 9]\n",
      "arr2: [11 12 13 14 15 16 17 18 19]\n"
     ]
    }
   ],
   "source": [
    "print(\"arr1:\", arr1 )\n",
    "print(\"arr2:\", arr2)"
   ]
  },
  {
   "cell_type": "code",
   "execution_count": 65,
   "metadata": {},
   "outputs": [
    {
     "data": {
      "text/plain": [
       "array([[ 1, 11],\n",
       "       [ 2, 12],\n",
       "       [ 3, 13],\n",
       "       [ 4, 14],\n",
       "       [ 5, 15],\n",
       "       [ 6, 16],\n",
       "       [ 7, 17],\n",
       "       [ 8, 18],\n",
       "       [ 9, 19]])"
      ]
     },
     "execution_count": 65,
     "metadata": {},
     "output_type": "execute_result"
    }
   ],
   "source": [
    "np.c_[arr1,arr2]"
   ]
  },
  {
   "attachments": {},
   "cell_type": "markdown",
   "metadata": {},
   "source": [
    "___"
   ]
  },
  {
   "cell_type": "code",
   "execution_count": 66,
   "metadata": {},
   "outputs": [],
   "source": [
    "from sklearn.pipeline import Pipeline\n",
    "from sklearn.compose import ColumnTransformer\n",
    "from sklearn.preprocessing import StandardScaler"
   ]
  },
  {
   "cell_type": "code",
   "execution_count": 78,
   "metadata": {},
   "outputs": [],
   "source": [
    "num_pipeline = Pipeline(steps=[\n",
    "    ('imputer', SimpleImputer(strategy=\"median\")),\n",
    "    ('feature_generator',FeatureGenerator()),\n",
    "    ('scaling',StandardScaler())\n",
    "])"
   ]
  },
  {
   "cell_type": "code",
   "execution_count": 75,
   "metadata": {},
   "outputs": [],
   "source": [
    "from sklearn.preprocessing import OneHotEncoder"
   ]
  },
  {
   "cell_type": "code",
   "execution_count": 88,
   "metadata": {},
   "outputs": [],
   "source": [
    "cat_pipeline = Pipeline(steps=[\n",
    "    ('imputer', SimpleImputer(strategy=\"most_frequent\")),\n",
    "    ('encoder',OneHotEncoder()),\n",
    "    ('scaling',StandardScaler(with_mean=False))  \n",
    "])"
   ]
  },
  {
   "cell_type": "code",
   "execution_count": 79,
   "metadata": {},
   "outputs": [
    {
     "data": {
      "text/plain": [
       "Index(['longitude', 'latitude', 'housing_median_age', 'total_rooms',\n",
       "       'total_bedrooms', 'population', 'households', 'median_income'],\n",
       "      dtype='object')"
      ]
     },
     "execution_count": 79,
     "metadata": {},
     "output_type": "execute_result"
    }
   ],
   "source": [
    "numerical_column.columns"
   ]
  },
  {
   "cell_type": "code",
   "execution_count": 80,
   "metadata": {},
   "outputs": [],
   "source": [
    "num_column_name = ['longitude', 'latitude', 'housing_median_age', 'total_rooms',\n",
    "       'total_bedrooms', 'population', 'households', 'median_income']\n",
    "\n",
    "cat_column_name = ['ocean_proximity']"
   ]
  },
  {
   "cell_type": "code",
   "execution_count": 89,
   "metadata": {},
   "outputs": [],
   "source": [
    "preprocessing = ColumnTransformer([\n",
    "    ('num_pipeline',num_pipeline,num_column_name),\n",
    "    ('cat_pipeline',cat_pipeline,cat_column_name)]\n",
    ")"
   ]
  },
  {
   "cell_type": "code",
   "execution_count": 90,
   "metadata": {},
   "outputs": [
    {
     "data": {
      "text/plain": [
       "array([[-0.94135046,  1.34743822,  0.02756357, ...,  0.        ,\n",
       "         0.        ,  0.        ],\n",
       "       [ 1.17178212, -1.19243966, -1.72201763, ...,  0.        ,\n",
       "         0.        ,  2.9869105 ],\n",
       "       [ 0.26758118, -0.1259716 ,  1.22045984, ...,  0.        ,\n",
       "         0.        ,  0.        ],\n",
       "       ...,\n",
       "       [-1.5707942 ,  1.31001828,  1.53856552, ...,  0.        ,\n",
       "         0.        ,  0.        ],\n",
       "       [-1.56080303,  1.2492109 , -1.1653327 , ...,  0.        ,\n",
       "         0.        ,  0.        ],\n",
       "       [-1.28105026,  2.02567448, -0.13148926, ...,  0.        ,\n",
       "         0.        ,  0.        ]])"
      ]
     },
     "execution_count": 90,
     "metadata": {},
     "output_type": "execute_result"
    }
   ],
   "source": [
    "preprocessing.fit_transform(df)"
   ]
  },
  {
   "cell_type": "code",
   "execution_count": 91,
   "metadata": {},
   "outputs": [],
   "source": [
    "test_file_path = r\"D:\\Projects\\ML Projects\\ML_Project_01\\ml_project1\\housing\\artifact\\data_ingestion\\2022-12-21-09-56-22\\ingested_data\\test\\housing.csv\""
   ]
  },
  {
   "cell_type": "code",
   "execution_count": 92,
   "metadata": {},
   "outputs": [],
   "source": [
    "test_df = pd.read_csv(test_file_path)"
   ]
  },
  {
   "cell_type": "code",
   "execution_count": 93,
   "metadata": {},
   "outputs": [
    {
     "data": {
      "text/html": [
       "<div>\n",
       "<style scoped>\n",
       "    .dataframe tbody tr th:only-of-type {\n",
       "        vertical-align: middle;\n",
       "    }\n",
       "\n",
       "    .dataframe tbody tr th {\n",
       "        vertical-align: top;\n",
       "    }\n",
       "\n",
       "    .dataframe thead th {\n",
       "        text-align: right;\n",
       "    }\n",
       "</style>\n",
       "<table border=\"1\" class=\"dataframe\">\n",
       "  <thead>\n",
       "    <tr style=\"text-align: right;\">\n",
       "      <th></th>\n",
       "      <th>longitude</th>\n",
       "      <th>latitude</th>\n",
       "      <th>housing_median_age</th>\n",
       "      <th>total_rooms</th>\n",
       "      <th>total_bedrooms</th>\n",
       "      <th>population</th>\n",
       "      <th>households</th>\n",
       "      <th>median_income</th>\n",
       "      <th>median_house_value</th>\n",
       "      <th>ocean_proximity</th>\n",
       "    </tr>\n",
       "  </thead>\n",
       "  <tbody>\n",
       "    <tr>\n",
       "      <th>0</th>\n",
       "      <td>-118.39</td>\n",
       "      <td>34.12</td>\n",
       "      <td>29.0</td>\n",
       "      <td>6447.0</td>\n",
       "      <td>1012.0</td>\n",
       "      <td>2184.0</td>\n",
       "      <td>960.0</td>\n",
       "      <td>8.2816</td>\n",
       "      <td>500001.0</td>\n",
       "      <td>&lt;1H OCEAN</td>\n",
       "    </tr>\n",
       "    <tr>\n",
       "      <th>1</th>\n",
       "      <td>-120.42</td>\n",
       "      <td>34.89</td>\n",
       "      <td>24.0</td>\n",
       "      <td>2020.0</td>\n",
       "      <td>307.0</td>\n",
       "      <td>855.0</td>\n",
       "      <td>283.0</td>\n",
       "      <td>5.0099</td>\n",
       "      <td>162500.0</td>\n",
       "      <td>&lt;1H OCEAN</td>\n",
       "    </tr>\n",
       "    <tr>\n",
       "      <th>2</th>\n",
       "      <td>-118.45</td>\n",
       "      <td>34.25</td>\n",
       "      <td>36.0</td>\n",
       "      <td>1453.0</td>\n",
       "      <td>270.0</td>\n",
       "      <td>808.0</td>\n",
       "      <td>275.0</td>\n",
       "      <td>4.3839</td>\n",
       "      <td>204600.0</td>\n",
       "      <td>&lt;1H OCEAN</td>\n",
       "    </tr>\n",
       "    <tr>\n",
       "      <th>3</th>\n",
       "      <td>-118.10</td>\n",
       "      <td>33.91</td>\n",
       "      <td>35.0</td>\n",
       "      <td>1653.0</td>\n",
       "      <td>325.0</td>\n",
       "      <td>1072.0</td>\n",
       "      <td>301.0</td>\n",
       "      <td>3.2708</td>\n",
       "      <td>159700.0</td>\n",
       "      <td>&lt;1H OCEAN</td>\n",
       "    </tr>\n",
       "    <tr>\n",
       "      <th>4</th>\n",
       "      <td>-117.07</td>\n",
       "      <td>32.77</td>\n",
       "      <td>38.0</td>\n",
       "      <td>3779.0</td>\n",
       "      <td>614.0</td>\n",
       "      <td>1495.0</td>\n",
       "      <td>614.0</td>\n",
       "      <td>4.3529</td>\n",
       "      <td>184000.0</td>\n",
       "      <td>NEAR OCEAN</td>\n",
       "    </tr>\n",
       "  </tbody>\n",
       "</table>\n",
       "</div>"
      ],
      "text/plain": [
       "   longitude  latitude  housing_median_age  total_rooms  total_bedrooms  \\\n",
       "0    -118.39     34.12                29.0       6447.0          1012.0   \n",
       "1    -120.42     34.89                24.0       2020.0           307.0   \n",
       "2    -118.45     34.25                36.0       1453.0           270.0   \n",
       "3    -118.10     33.91                35.0       1653.0           325.0   \n",
       "4    -117.07     32.77                38.0       3779.0           614.0   \n",
       "\n",
       "   population  households  median_income  median_house_value ocean_proximity  \n",
       "0      2184.0       960.0         8.2816            500001.0       <1H OCEAN  \n",
       "1       855.0       283.0         5.0099            162500.0       <1H OCEAN  \n",
       "2       808.0       275.0         4.3839            204600.0       <1H OCEAN  \n",
       "3      1072.0       301.0         3.2708            159700.0       <1H OCEAN  \n",
       "4      1495.0       614.0         4.3529            184000.0      NEAR OCEAN  "
      ]
     },
     "execution_count": 93,
     "metadata": {},
     "output_type": "execute_result"
    }
   ],
   "source": [
    "test_df.head()"
   ]
  },
  {
   "cell_type": "code",
   "execution_count": 94,
   "metadata": {},
   "outputs": [
    {
     "data": {
      "text/plain": [
       "array([[ 0.59229422, -0.71065803,  0.02756357, ...,  0.        ,\n",
       "         0.        ,  0.        ],\n",
       "       [-0.42180959, -0.35049119, -0.37006852, ...,  0.        ,\n",
       "         0.        ,  0.        ],\n",
       "       [ 0.56232071, -0.64985064,  0.5842485 , ...,  0.        ,\n",
       "         0.        ,  0.        ],\n",
       "       ...,\n",
       "       [-0.07211862, -0.56097831,  1.14093342, ...,  0.        ,\n",
       "         0.        ,  0.        ],\n",
       "       [ 0.83208232, -0.93985512,  0.10708999, ...,  0.        ,\n",
       "         0.        ,  0.        ],\n",
       "       [ 0.50736927, -0.67791559,  0.5842485 , ...,  0.        ,\n",
       "         0.        ,  0.        ]])"
      ]
     },
     "execution_count": 94,
     "metadata": {},
     "output_type": "execute_result"
    }
   ],
   "source": [
    "preprocessing.transform(test_df)"
   ]
  },
  {
   "cell_type": "code",
   "execution_count": 95,
   "metadata": {},
   "outputs": [],
   "source": [
    "import dill"
   ]
  },
  {
   "cell_type": "code",
   "execution_count": 96,
   "metadata": {},
   "outputs": [],
   "source": [
    "with open('preprocessing.pkl','wb') as prep_file:\n",
    "    dill.dump(preprocessing,prep_file)"
   ]
  },
  {
   "cell_type": "code",
   "execution_count": 101,
   "metadata": {},
   "outputs": [],
   "source": [
    "with open('preprocessing.pkl', 'rb') as file_obj:\n",
    "    prep_loaded_obj = dill.load(file_obj)"
   ]
  },
  {
   "cell_type": "code",
   "execution_count": 102,
   "metadata": {},
   "outputs": [
    {
     "data": {
      "text/plain": [
       "array([[ 0.59229422, -0.71065803,  0.02756357, ...,  0.        ,\n",
       "         0.        ,  0.        ],\n",
       "       [-0.42180959, -0.35049119, -0.37006852, ...,  0.        ,\n",
       "         0.        ,  0.        ],\n",
       "       [ 0.56232071, -0.64985064,  0.5842485 , ...,  0.        ,\n",
       "         0.        ,  0.        ],\n",
       "       ...,\n",
       "       [-0.07211862, -0.56097831,  1.14093342, ...,  0.        ,\n",
       "         0.        ,  0.        ],\n",
       "       [ 0.83208232, -0.93985512,  0.10708999, ...,  0.        ,\n",
       "         0.        ,  0.        ],\n",
       "       [ 0.50736927, -0.67791559,  0.5842485 , ...,  0.        ,\n",
       "         0.        ,  0.        ]])"
      ]
     },
     "execution_count": 102,
     "metadata": {},
     "output_type": "execute_result"
    }
   ],
   "source": [
    "prep_loaded_obj.transform(test_df)"
   ]
  },
  {
   "cell_type": "code",
   "execution_count": null,
   "metadata": {},
   "outputs": [],
   "source": []
  }
 ],
 "metadata": {
  "kernelspec": {
   "display_name": "Python 3",
   "language": "python",
   "name": "python3"
  },
  "language_info": {
   "codemirror_mode": {
    "name": "ipython",
    "version": 3
   },
   "file_extension": ".py",
   "mimetype": "text/x-python",
   "name": "python",
   "nbconvert_exporter": "python",
   "pygments_lexer": "ipython3",
   "version": "3.7.0"
  },
  "orig_nbformat": 4,
  "vscode": {
   "interpreter": {
    "hash": "255d12a1ab0458ee298b29e891a91303848454324fd9e92ce89eb41445465bda"
   }
  }
 },
 "nbformat": 4,
 "nbformat_minor": 2
}
